{
 "cells": [
  {
   "cell_type": "markdown",
   "metadata": {},
   "source": [
    "# NLPAug"
   ]
  },
  {
   "cell_type": "code",
   "execution_count": 1,
   "metadata": {},
   "outputs": [],
   "source": [
    "import nlpaug.augmenter.sentence as nas\n",
    "import nlpaug.augmenter.word as naw"
   ]
  },
  {
   "cell_type": "markdown",
   "metadata": {},
   "source": [
    "### ContextualWordEmbsAug"
   ]
  },
  {
   "cell_type": "code",
   "execution_count": 2,
   "metadata": {},
   "outputs": [
    {
     "name": "stdout",
     "output_type": "stream",
     "text": [
      "ORIGINAL TEXT:  The quick brown fox jumps over the lazy dog .\n",
      "AUGMENTED TEXT:  the quick blue eye jumps over his lazy dog.\n"
     ]
    }
   ],
   "source": [
    "\"\"\"\n",
    "    action = insert: a new word will be injected to random position according to contextual word embeddings calculation.\n",
    "    action = substitute: word will be replaced according to contextual embeddings calculation\n",
    "\"\"\"\n",
    "aug = naw.ContextualWordEmbsAug(\n",
    "model_path='bert-base-uncased', action=\"insert\") \n",
    "aug = naw.ContextualWordEmbsAug(\n",
    "    model_path='bert-base-uncased', action=\"substitute\") \n",
    "\n",
    "text = 'The quick brown fox jumps over the lazy dog .'\n",
    "\n",
    "augmented_text = aug.augment(text)\n",
    "print(\"ORIGINAL TEXT: \", text)\n",
    "print(\"AUGMENTED TEXT: \",augmented_text)"
   ]
  },
  {
   "cell_type": "markdown",
   "metadata": {},
   "source": [
    "### Synonym Augmentation"
   ]
  },
  {
   "cell_type": "code",
   "execution_count": 3,
   "metadata": {},
   "outputs": [
    {
     "name": "stdout",
     "output_type": "stream",
     "text": [
      "ORIGINAL TEXT:  The quick brown fox jumps over the lazy dog .\n",
      "AUGMENTED TEXT:  ['The speedy brownness fox jumps over the lazy dog.', 'The quick brown fox bound over the lazy andiron.', 'The quick brown dodger jumps all over the lazy dog.', 'The quick brown fox jump terminated the lazy dog.']\n"
     ]
    }
   ],
   "source": [
    "text = 'The quick brown fox jumps over the lazy dog .'\n",
    "\n",
    "syn_aug = naw.SynonymAug(aug_src='wordnet',aug_max=2)\n",
    "syn_aug_text = syn_aug.augment(text,n=4)\n",
    "print(\"ORIGINAL TEXT: \", text)\n",
    "print(\"AUGMENTED TEXT: \",syn_aug_text)\n"
   ]
  },
  {
   "cell_type": "markdown",
   "metadata": {},
   "source": [
    "### BackTranslation"
   ]
  },
  {
   "cell_type": "code",
   "execution_count": 4,
   "metadata": {},
   "outputs": [
    {
     "name": "stdout",
     "output_type": "stream",
     "text": [
      "ORIGINAL TEXT:  The quick brown fox jumps over the lazy dog .\n",
      "AUGMENTED TEXT:  The speedy brown fox jumps over the lazy dog.\n"
     ]
    }
   ],
   "source": [
    "aug = naw.BackTranslationAug()\n",
    "text = 'The quick brown fox jumps over the lazy dog .'\n",
    "\n",
    "print(\"ORIGINAL TEXT: \", text)\n",
    "print(\"AUGMENTED TEXT: \",aug.augment(text))"
   ]
  },
  {
   "cell_type": "markdown",
   "metadata": {},
   "source": [
    "### Abstractive Summary"
   ]
  },
  {
   "cell_type": "code",
   "execution_count": 5,
   "metadata": {},
   "outputs": [
    {
     "name": "stdout",
     "output_type": "stream",
     "text": [
      "['a report by the association for democratic reforms (ADR) revealed that assets of 78, that is, 77% of MLAs in the Punjab legislative assembly who are re-contesting in this year’s state elections, has seen a surge ranging from 2% to 2,954%.', 'the average asset growth of these 101 MLAs between the 2017 and 2022 assembly elections is 2.76 crore.', 'Sukhbir Singh Badal of the Shiromani Akali Dal (SAD) from the Jalalabad constituency declared the maximum increase in assets, by 100 crore.', 'assets increased from 102 crore in 2017 to 202 crore in 2022.', 'he is followed by Manpreet Singh Badal of the Indian National Congress. his assets increased by 32 crore, from 40 crore in 2017 to 72 crore in 2022.', 'assets of 21 MLAs have dropped from -2% to -74% in the last five years.', 'among them is chief minister Charanjit Singh Channi. his assets decreased from 14.51 crore in 2017 to 9.45 crore in 2022.', 'Navjot Singh Sidhu sees a slight decrease in assets, from 45.9 crore in 2017 to 44.65 crore this year.']\n"
     ]
    }
   ],
   "source": [
    "import nltk\n",
    "\n",
    "aug = nas.AbstSummAug()\n",
    "\n",
    "paragraph = \"\"\" With the election fervour at its peak, a report by the Association for Democratic Reforms (ADR) revealed that assets of 78, that is, 77% of MLAs in the Punjab legislative assembly who are re-contesting in this year’s state elections, has seen a surge ranging from 2% to 2,954%. The average asset growth, based on the analysis of their poll affidavits, of these 101 MLAs between the 2017 and 2022 assembly elections is ₹2.76 crore.\n",
    "\n",
    "According to the report, Sukhbir Singh Badal of Shiromani Akali Dal (SAD) from the Jalalabad constituency has declared the maximum increase in assets, by ₹100 crore. His assets increased from ₹102 crore in 2017 to ₹202 crore in 2022. He is followed by Manpreet Singh Badal of the Indian National Congress whose assets increased by ₹32 crore, from ₹40 crore in 2017 to ₹72 crore in 2022.\n",
    "\n",
    "However, assets of 21 MLAs have dropped from -2% to -74% in the last five years. Among those are chief minister Charanjit Singh Channi, whose assets decreased from ₹14.51 crore in 2017 to ₹9.45 crore in 2022. Punjab Congress president Navjot Singh Sidhu, too, saw a slight decrease in assets, from ₹45.9 crore in 2017 to ₹44.65 crore this year.\n",
    "\"\"\"\n",
    "sent_list = nltk.sent_tokenize(paragraph)\n",
    "pred = aug.augment(sent_list)\n",
    "print(pred)"
   ]
  },
  {
   "cell_type": "code",
   "execution_count": 6,
   "metadata": {},
   "outputs": [
    {
     "name": "stdout",
     "output_type": "stream",
     "text": [
      "AUGMENTED TEXT:  [\"A report by the Association for Democratic Reform (ADR) found that the assets of 78, or 77% of the Punjab legislature's MLAs running again in this year's parliamentary elections, have risen between 2% and 2,954%.\", 'The average wealth growth of these 101 MLAs between the 2017 and 2022 parliamentary elections is 2.76 crore.', 'Sukhbir Singh Badal of the Shiromani Akali Dal (SAD) from the Jalalabad constituency explained the maximum increase in assets by 100 crore.', 'Assets rose from 102 crore in 2017 to 202 crore in 2022.', 'He is succeeded by Manpreet Singh Badal of the Indian National Congress, whose wealth has increased by 32 crore, from 40 crore in 2017 to 72 crore in 2022.', 'The assets of 21 MLAs have fallen from -2% to -74% in the last five years.', 'Among them is Prime Minister Charanjit Singh Chan, whose wealth has fallen from $14.51 billion in 2017 to $9.45 billion in 2022.', 'Navjot Singh Sidhu sees a slight decline in assets, from 45.9 crore in 2017 to 44.65 crore this year.']\n"
     ]
    }
   ],
   "source": [
    "aug = naw.BackTranslationAug()\n",
    "print(\"AUGMENTED TEXT: \",aug.augment(pred))\n"
   ]
  },
  {
   "cell_type": "code",
   "execution_count": null,
   "metadata": {},
   "outputs": [],
   "source": []
  }
 ],
 "metadata": {
  "interpreter": {
   "hash": "e1708682e3b52fa9e77073f57515ae6e20c8173c0d4bedb759ef7edcc40ac8f5"
  },
  "kernelspec": {
   "display_name": "Python 3.7.6 ('deepenv')",
   "language": "python",
   "name": "python3"
  },
  "language_info": {
   "codemirror_mode": {
    "name": "ipython",
    "version": 3
   },
   "file_extension": ".py",
   "mimetype": "text/x-python",
   "name": "python",
   "nbconvert_exporter": "python",
   "pygments_lexer": "ipython3",
   "version": "3.7.6"
  },
  "orig_nbformat": 4
 },
 "nbformat": 4,
 "nbformat_minor": 2
}
