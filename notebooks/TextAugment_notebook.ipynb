{
 "cells": [
  {
   "cell_type": "markdown",
   "metadata": {},
   "source": [
    "# TextAugment\n",
    "TextAugment is a Python 3 library for augmenting text for natural language processing applications. TextAugment stands on the giant shoulders of NLTK, Gensim, and TextBlob and plays nicely with them."
   ]
  },
  {
   "cell_type": "code",
   "execution_count": null,
   "metadata": {},
   "outputs": [],
   "source": [
    "! pip install numpy nltk gensim textblob googletrans"
   ]
  },
  {
   "cell_type": "markdown",
   "metadata": {},
   "source": [
    "! pip install textaugment"
   ]
  },
  {
   "cell_type": "code",
   "execution_count": null,
   "metadata": {},
   "outputs": [],
   "source": [
    "import nltk\n",
    "nltk.download('wordnet')\n",
    "nltk.download('punkt')\n",
    "nltk.download('averaged_perceptron_tagger')\n"
   ]
  },
  {
   "cell_type": "markdown",
   "metadata": {},
   "source": [
    "### Simple text augment"
   ]
  },
  {
   "cell_type": "code",
   "execution_count": 2,
   "metadata": {},
   "outputs": [
    {
     "data": {
      "text/plain": [
       "'the quick brown fox jump over the lazy dog.'"
      ]
     },
     "execution_count": 2,
     "metadata": {},
     "output_type": "execute_result"
    }
   ],
   "source": [
    "from textaugment import Wordnet\n",
    "\n",
    "t = Wordnet()\n",
    "\n",
    "TEST_TEXT = \"The quick brown fox jumps over the lazy dog.\"\n",
    "t.augment(TEST_TEXT)"
   ]
  },
  {
   "cell_type": "code",
   "execution_count": 8,
   "metadata": {},
   "outputs": [
    {
     "data": {
      "text/plain": [
       "'the quick brownness fox jumps over the lazy dog.'"
      ]
     },
     "execution_count": 8,
     "metadata": {},
     "output_type": "execute_result"
    }
   ],
   "source": [
    "from textaugment import Wordnet\n",
    "v = True # enable verbs augmentation. By default is True.\n",
    "n = False # enable nouns augmentation. By default is False.\n",
    "runs = 1 # number of times to augment a sentence. By default is 1.\n",
    "p = 0.5 # The probability of success of an individual trial. (0.1<p<1.0), default is 0.5. Used by Geometric distribution to selects words from a sentence.\n",
    "\n",
    "t_with_args = Wordnet(v=False ,n=True, p=0.9)\n",
    "t_with_args.augment(TEST_TEXT)"
   ]
  },
  {
   "cell_type": "code",
   "execution_count": null,
   "metadata": {},
   "outputs": [],
   "source": []
  },
  {
   "cell_type": "markdown",
   "metadata": {},
   "source": [
    "### EDA: Easy data augmentation techniques\n",
    "1. Synonym Replacement\n",
    "2. Random Deletion\n",
    "3. Random Swap\n",
    "4. Random Insertion"
   ]
  },
  {
   "cell_type": "markdown",
   "metadata": {},
   "source": [
    "### Synonym Replacement\n",
    "Randomly choose n words from the sentence that are not stop words. Replace each of these words with one of its synonyms chosen at random."
   ]
  },
  {
   "cell_type": "code",
   "execution_count": 4,
   "metadata": {},
   "outputs": [
    {
     "name": "stdout",
     "output_type": "stream",
     "text": [
      "ORIGINAL Text : The quick brown fox jumps over the lazy dog.\n",
      "AUGMENTED TEXT: The ready brown fox jumps over the lazy dog.\n"
     ]
    }
   ],
   "source": [
    "from textaugment import EDA\n",
    "\n",
    "eda_augment = EDA()\n",
    "\n",
    "TEST_TEXT = \"The quick brown fox jumps over the lazy dog.\"\n",
    "syn_augmented = eda_augment.synonym_replacement(TEST_TEXT)\n",
    "print(\"ORIGINAL Text :\",TEST_TEXT)\n",
    "print(\"AUGMENTED TEXT:\", syn_augmented)"
   ]
  },
  {
   "cell_type": "markdown",
   "metadata": {},
   "source": [
    "### Random Deletion\n",
    "Randomly remove each word in the sentence with probability p."
   ]
  },
  {
   "cell_type": "code",
   "execution_count": 5,
   "metadata": {},
   "outputs": [
    {
     "name": "stdout",
     "output_type": "stream",
     "text": [
      "ORIGINAL Text : The quick brown fox jumps over the lazy dog.\n",
      "AUGMENTED TEXT: quick brown fox jumps over the lazy\n"
     ]
    }
   ],
   "source": [
    "from textaugment import EDA\n",
    "\n",
    "eda_augment = EDA()\n",
    "\n",
    "TEST_TEXT = \"The quick brown fox jumps over the lazy dog.\"\n",
    "random_del_augmented = eda_augment.random_deletion(TEST_TEXT, p=0.2)\n",
    "print(\"ORIGINAL Text :\",TEST_TEXT)\n",
    "print(\"AUGMENTED TEXT:\", random_del_augmented)"
   ]
  },
  {
   "cell_type": "markdown",
   "metadata": {},
   "source": [
    "### Random Swap\n",
    "Randomly choose two words in the sentence and swap their positions. Do this n times."
   ]
  },
  {
   "cell_type": "code",
   "execution_count": 6,
   "metadata": {},
   "outputs": [
    {
     "name": "stdout",
     "output_type": "stream",
     "text": [
      "ORIGINAL Text : The quick brown fox jumps over the lazy dog.\n",
      "AUGMENTED TEXT: The brown quick fox jumps over the lazy dog.\n"
     ]
    }
   ],
   "source": [
    "from textaugment import EDA\n",
    "\n",
    "eda_augment = EDA()\n",
    "\n",
    "TEST_TEXT = \"The quick brown fox jumps over the lazy dog.\"\n",
    "random_swap_augmented = eda_augment.random_swap(TEST_TEXT)\n",
    "print(\"ORIGINAL Text :\",TEST_TEXT)\n",
    "print(\"AUGMENTED TEXT:\", random_swap_augmented)"
   ]
  },
  {
   "cell_type": "markdown",
   "metadata": {},
   "source": [
    "### Random Insertion\n",
    "Find a random synonym of a random word in the sentence that is not a stop word. Insert that synonym into a random position in the sentence. Do this n times"
   ]
  },
  {
   "cell_type": "code",
   "execution_count": 7,
   "metadata": {},
   "outputs": [
    {
     "name": "stdout",
     "output_type": "stream",
     "text": [
      "ORIGINAL Text : The quick brown fox jumps over the lazy dog.\n",
      "AUGMENTED TEXT: The agile quick brown fox jumps over the lazy dog.\n"
     ]
    }
   ],
   "source": [
    "from textaugment import EDA\n",
    "\n",
    "eda_augment = EDA()\n",
    "\n",
    "TEST_TEXT = \"The quick brown fox jumps over the lazy dog.\"\n",
    "rnd_insert_augmented = eda_augment.random_insertion(TEST_TEXT)\n",
    "print(\"ORIGINAL Text :\",TEST_TEXT)\n",
    "print(\"AUGMENTED TEXT:\", rnd_insert_augmented)"
   ]
  },
  {
   "cell_type": "markdown",
   "metadata": {},
   "source": [
    "#### Cite the paper\n",
    "```\n",
    "@article{marivate2019improving,\n",
    "  title={Improving short text classification through global augmentation methods},\n",
    "  author={Marivate, Vukosi and Sefara, Tshephisho},\n",
    "  journal={arXiv preprint arXiv:1907.03752},\n",
    "  year={2019}\n",
    "}\n",
    "```"
   ]
  },
  {
   "cell_type": "code",
   "execution_count": null,
   "metadata": {},
   "outputs": [],
   "source": []
  }
 ],
 "metadata": {
  "interpreter": {
   "hash": "85ab11090a32b58d1dba88bd22dc30d9d16814845c03675a7b99eed0df35fc67"
  },
  "kernelspec": {
   "display_name": "Python 3.7.6 64-bit ('venv': virtualenv)",
   "language": "python",
   "name": "python3"
  },
  "language_info": {
   "codemirror_mode": {
    "name": "ipython",
    "version": 3
   },
   "file_extension": ".py",
   "mimetype": "text/x-python",
   "name": "python",
   "nbconvert_exporter": "python",
   "pygments_lexer": "ipython3",
   "version": "3.7.6"
  },
  "orig_nbformat": 4
 },
 "nbformat": 4,
 "nbformat_minor": 2
}
