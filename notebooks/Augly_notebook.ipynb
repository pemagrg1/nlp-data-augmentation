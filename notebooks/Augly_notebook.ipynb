{
 "cells": [
  {
   "cell_type": "markdown",
   "metadata": {},
   "source": [
    "# AUGLY\n",
    "Facebook just recently released the AugLy package to the public domain. AugLy library is divided into four sub-libraries, each for different kinds of data modalities (audio, images, videos and texts)."
   ]
  },
  {
   "cell_type": "code",
   "execution_count": null,
   "metadata": {},
   "outputs": [],
   "source": [
    "! pip install -U augly"
   ]
  },
  {
   "cell_type": "code",
   "execution_count": null,
   "metadata": {},
   "outputs": [],
   "source": [
    "# !brew install libmagic-dev\n",
    "# !pip install python-magic"
   ]
  },
  {
   "cell_type": "code",
   "execution_count": 4,
   "metadata": {},
   "outputs": [
    {
     "data": {
      "text/plain": [
       "\"\\nThe available funcations\\n 'change_case',\\n 'contractions',\\n 'insert_punctuation_chars',\\n 'insert_whitespace_chars',\\n 'insert_zero_width_chars',\\n 'merge_words',\\n 'replace_bidirectional',\\n 'replace_fun_fonts',\\n 'replace_similar_chars',\\n 'replace_similar_unicode_chars',\\n 'replace_upside_down',\\n 'replace_words',\\n 'simulate_typos',\\n 'split_words',\\n 'swap_gendered_words',\\n 'transforms',\\n 'utils'\\n\""
      ]
     },
     "execution_count": 4,
     "metadata": {},
     "output_type": "execute_result"
    }
   ],
   "source": [
    "\"\"\"\n",
    "The available funcations\n",
    " 'change_case',\n",
    " 'contractions',\n",
    " 'insert_punctuation_chars',\n",
    " 'insert_whitespace_chars',\n",
    " 'insert_zero_width_chars',\n",
    " 'merge_words',\n",
    " 'replace_bidirectional',\n",
    " 'replace_fun_fonts',\n",
    " 'replace_similar_chars',\n",
    " 'replace_similar_unicode_chars',\n",
    " 'replace_upside_down',\n",
    " 'replace_words',\n",
    " 'simulate_typos',\n",
    " 'split_words',\n",
    " 'swap_gendered_words',\n",
    " 'transforms',\n",
    " 'utils'\n",
    "\"\"\""
   ]
  },
  {
   "cell_type": "code",
   "execution_count": null,
   "metadata": {},
   "outputs": [],
   "source": [
    "import augly.text as textaugs\n",
    "\n",
    "message = 'Hi everyn, I hope yu are habing a great time herre'\n",
    "corrected = textaugs.simulate_typos(message)\n",
    " \n",
    "print(corrected)"
   ]
  },
  {
   "cell_type": "code",
   "execution_count": null,
   "metadata": {},
   "outputs": [],
   "source": [
    "import augly.text as textaugs\n",
    "\n",
    "TEST_TEXT = \"The quick brown fox jumps over the lazy dog.\"\n",
    "textaugs.change_case(TEST_TEXT)\n",
    "# ['THE QUICK brown fox JUMPS over THE LAZY dog.']"
   ]
  },
  {
   "cell_type": "code",
   "execution_count": null,
   "metadata": {},
   "outputs": [],
   "source": [
    "import augly.text as textaugs\n",
    "\n",
    "TEST_TEXT = \"The quick brown fox jumps over the lazy dog.\"\n",
    "textaugs.replace_similar_chars(TEST_TEXT)\n",
    "# Th3 quick brown fox jumps over the lazy do9."
   ]
  },
  {
   "cell_type": "code",
   "execution_count": null,
   "metadata": {},
   "outputs": [],
   "source": [
    "import augly.text as textaugs\n",
    "\n",
    "TEST_TEXT = \"The quick brown fox jumps over the lazy dog.\"\n",
    "textaugs.insert_punctuation_chars(TEST_TEXT)\n",
    "# ['T.h.e. .q.u.i.c.k. .b.r.o.w.n. .f.o.x. .j.u.m.p.s. .o.v.e.r. .t.h.e. .l.a.z.y. .d.o.g..']"
   ]
  },
  {
   "cell_type": "code",
   "execution_count": null,
   "metadata": {},
   "outputs": [],
   "source": [
    "import augly.text as textaugs\n",
    "\n",
    "TEST_TEXT = \"The quick brown fox jumps over the lazy dog.\"\n",
    "textaugs.merge_words(TEST_TEXT)\n",
    "# The quickbrown foxjumps over the lazy dog."
   ]
  },
  {
   "cell_type": "code",
   "execution_count": null,
   "metadata": {},
   "outputs": [],
   "source": [
    "import augly.text as textaugs\n",
    "\n",
    "TEST_TEXT = \"The quick brown fox jumps over the lazy dog.\"\n",
    "textaugs.replace_bidirectional(TEST_TEXT)\n",
    "# ['\\u202e.god yzal eht revo spmuj xof nworb kciuq ehT\\u202c']"
   ]
  },
  {
   "cell_type": "code",
   "execution_count": null,
   "metadata": {},
   "outputs": [],
   "source": [
    "import augly.text as textaugs\n",
    "\n",
    "TEST_TEXT = \"The quick brown fox jumps over the lazy dog.\"\n",
    "textaugs.replace_fun_fonts(TEST_TEXT)\n",
    "# The quick brown fox jumps over the lazy dog."
   ]
  },
  {
   "cell_type": "code",
   "execution_count": null,
   "metadata": {},
   "outputs": [],
   "source": [
    "import augly.text as textaugs\n",
    "\n",
    "TEST_TEXT = \"The quick brown fox jumps over the lazy dog.\"\n",
    "textaugs.split_words(TEST_TEXT)\n",
    "# The qui ck br own fox jumps over the l azy dog."
   ]
  }
 ],
 "metadata": {
  "interpreter": {
   "hash": "85ab11090a32b58d1dba88bd22dc30d9d16814845c03675a7b99eed0df35fc67"
  },
  "kernelspec": {
   "display_name": "Python 3.7.6 64-bit ('venv': virtualenv)",
   "language": "python",
   "name": "python3"
  },
  "language_info": {
   "codemirror_mode": {
    "name": "ipython",
    "version": 3
   },
   "file_extension": ".py",
   "mimetype": "text/x-python",
   "name": "python",
   "nbconvert_exporter": "python",
   "pygments_lexer": "ipython3",
   "version": "3.7.6"
  },
  "orig_nbformat": 4
 },
 "nbformat": 4,
 "nbformat_minor": 2
}
