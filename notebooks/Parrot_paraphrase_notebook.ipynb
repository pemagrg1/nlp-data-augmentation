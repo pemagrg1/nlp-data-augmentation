{
 "cells": [
  {
   "cell_type": "markdown",
   "metadata": {},
   "source": [
    "# Parrot Paraphrase\n",
    "Parrot is a paraphrase-based utterance augmentation framework purpose-built to accelerate training NLU models. A paraphrase framework is more than just a paraphrasing model."
   ]
  },
  {
   "cell_type": "code",
   "execution_count": 1,
   "metadata": {},
   "outputs": [],
   "source": [
    "\n",
    "import warnings\n",
    "\n",
    "import torch\n",
    "from parrot import Parrot\n",
    "\n",
    "warnings.filterwarnings(\"ignore\")\n"
   ]
  },
  {
   "cell_type": "code",
   "execution_count": 3,
   "metadata": {},
   "outputs": [],
   "source": [
    "torch_device = 'cuda' if torch.cuda.is_available() else 'cpu'\n"
   ]
  },
  {
   "cell_type": "code",
   "execution_count": 6,
   "metadata": {},
   "outputs": [],
   "source": [
    "PARROT_PRETRAINED_MODEL = \"prithivida/parrot_paraphraser_on_T5\"\n",
    "parrot_model = Parrot(model_tag=PARROT_PRETRAINED_MODEL)"
   ]
  },
  {
   "cell_type": "code",
   "execution_count": 8,
   "metadata": {},
   "outputs": [
    {
     "name": "stdout",
     "output_type": "stream",
     "text": [
      "('list some restaurants that are good in newyork?', 44)\n",
      "('show some of the best places to eat in new york?', 41)\n",
      "('can you suggest some good restaurants to eat in new york?', 35)\n",
      "('tell me the best restaurant in newyork?', 34)\n",
      "('are there any good good restaurants in new york?', 30)\n",
      "('list the best upscale restaurants in newyork?', 28)\n",
      "('recommend some upscale restaurants in newyork?', 21)\n",
      "('can you recommend some upscale restaurants in new york?', 14)\n"
     ]
    }
   ],
   "source": [
    "\n",
    "PHRASE = \"Can you recommed some upscale restaurants in Newyork?\"\n",
    "para_phrases = parrot_model.augment(input_phrase=PHRASE, use_gpu=False)\n",
    "for para_phrase in para_phrases:\n",
    "    print(para_phrase)\n"
   ]
  },
  {
   "cell_type": "code",
   "execution_count": null,
   "metadata": {},
   "outputs": [],
   "source": [
    "\n",
    "PHRASE = \"The quick brown fox jumps over the lazy dog.\"\n",
    "para_phrases = parrot_model.augment(input_phrase=PHRASE, use_gpu=False)\n",
    "for para_phrase in para_phrases:\n",
    "    print(para_phrase)\n"
   ]
  },
  {
   "cell_type": "markdown",
   "metadata": {},
   "source": [
    "#### Citation\n",
    "        @misc{ma2019nlpaug,\n",
    "        title={NLP Augmentation},\n",
    "        author={Edward Ma},\n",
    "        howpublished={https://github.com/makcedward/nlpaug},\n",
    "        year={2019}\n",
    "        }"
   ]
  }
 ],
 "metadata": {
  "interpreter": {
   "hash": "85ab11090a32b58d1dba88bd22dc30d9d16814845c03675a7b99eed0df35fc67"
  },
  "kernelspec": {
   "display_name": "Python 3.7.6 64-bit ('venv': virtualenv)",
   "language": "python",
   "name": "python3"
  },
  "language_info": {
   "codemirror_mode": {
    "name": "ipython",
    "version": 3
   },
   "file_extension": ".py",
   "mimetype": "text/x-python",
   "name": "python",
   "nbconvert_exporter": "python",
   "pygments_lexer": "ipython3",
   "version": "3.7.6"
  },
  "orig_nbformat": 4
 },
 "nbformat": 4,
 "nbformat_minor": 2
}
